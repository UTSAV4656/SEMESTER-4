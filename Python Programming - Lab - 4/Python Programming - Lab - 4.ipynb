{
 "cells": [
  {
   "cell_type": "markdown",
   "metadata": {},
   "source": [
    "\n",
    "<a href='https://www.darshan.ac.in/'> <img src='https://www.darshan.ac.in/Content/media/DU_Logo.svg' width=\"250\" height=\"300\"/></a>\n",
    "<pre>\n",
    "<center><b><h1>Python Programming - 2301CS404</b></center>\n",
    "<center><b><h1>Lab - 4</b></center>    \n",
    "<pre>"
   ]
  },
  {
   "cell_type": "markdown",
   "metadata": {},
   "source": [
    "# String"
   ]
  },
  {
   "cell_type": "markdown",
   "metadata": {},
   "source": [
    "### 01) WAP to check whether the given string is palindrome or not."
   ]
  },
  {
   "cell_type": "code",
   "execution_count": 5,
   "metadata": {},
   "outputs": [
    {
     "name": "stdin",
     "output_type": "stream",
     "text": [
      "Enter String AayuuyaA\n"
     ]
    },
    {
     "name": "stdout",
     "output_type": "stream",
     "text": [
      "Palindrome\n"
     ]
    }
   ],
   "source": [
    "str1=input(\"Enter String\")\n",
    "if(str1[::-1]==str1):\n",
    "    print(\"Palindrome\")\n",
    "else:\n",
    "    print(\"Not Palindrome\")\n",
    "    "
   ]
  },
  {
   "cell_type": "markdown",
   "metadata": {},
   "source": [
    "### 02) WAP to reverse the words in the given string."
   ]
  },
  {
   "cell_type": "code",
   "execution_count": 33,
   "metadata": {},
   "outputs": [
    {
     "name": "stdin",
     "output_type": "stream",
     "text": [
      "Enter String hello world\n"
     ]
    },
    {
     "name": "stdout",
     "output_type": "stream",
     "text": [
      "world hello \n"
     ]
    }
   ],
   "source": [
    "str2=input(\"Enter String\")\n",
    "list=str2.split(\" \")\n",
    "str2=\"\"\n",
    "for i in range(1,len(list)+1):\n",
    "    str2= str2+list[-i]+\" \"\n",
    "\n",
    "print(str2)\n",
    "\n",
    "    "
   ]
  },
  {
   "cell_type": "markdown",
   "metadata": {},
   "source": [
    "### 03) WAP to remove ith character from given string."
   ]
  },
  {
   "cell_type": "code",
   "execution_count": 15,
   "metadata": {},
   "outputs": [
    {
     "name": "stdin",
     "output_type": "stream",
     "text": [
      "Enter String Aayush\n",
      "Enter Index 1\n"
     ]
    },
    {
     "name": "stdout",
     "output_type": "stream",
     "text": [
      "Ayush\n"
     ]
    }
   ],
   "source": [
    "str3=input(\"Enter String\")\n",
    "i=int(input(\"Enter Index\"))\n",
    "str3=str3[0:i]+str3[i+1::]\n",
    "print(str3)"
   ]
  },
  {
   "cell_type": "markdown",
   "metadata": {},
   "source": [
    "### 04) WAP to find length of string without using len function."
   ]
  },
  {
   "cell_type": "code",
   "execution_count": 21,
   "metadata": {},
   "outputs": [
    {
     "name": "stdin",
     "output_type": "stream",
     "text": [
      "Enter String aayush\n"
     ]
    },
    {
     "name": "stdout",
     "output_type": "stream",
     "text": [
      "6\n"
     ]
    }
   ],
   "source": [
    "str4=input(\"Enter String\")\n",
    "count=0\n",
    "for i in str4:\n",
    "    count+=1\n",
    "print(count)\n",
    "\n"
   ]
  },
  {
   "cell_type": "markdown",
   "metadata": {},
   "source": [
    "### 05) WAP to print even length word in string."
   ]
  },
  {
   "cell_type": "code",
   "execution_count": 25,
   "metadata": {},
   "outputs": [
    {
     "name": "stdin",
     "output_type": "stream",
     "text": [
      "Enter String aayush sojitra asd\n"
     ]
    },
    {
     "name": "stdout",
     "output_type": "stream",
     "text": [
      "aayush \n"
     ]
    }
   ],
   "source": [
    "str5=input(\"Enter String : \")\n",
    "l=str5.split(\" \")\n",
    "str5=\"\"\n",
    "for i in l:\n",
    "    if(len(i)%2==0):\n",
    "        str5= str5+ i + \" \"\n",
    "print(str5)\n",
    " "
   ]
  },
  {
   "cell_type": "markdown",
   "metadata": {},
   "source": [
    "### 06) WAP to count numbers of vowels in given string."
   ]
  },
  {
   "cell_type": "code",
   "execution_count": 31,
   "metadata": {},
   "outputs": [
    {
     "name": "stdin",
     "output_type": "stream",
     "text": [
      "Enter String :  aayush\n"
     ]
    },
    {
     "name": "stdout",
     "output_type": "stream",
     "text": [
      "3\n"
     ]
    }
   ],
   "source": [
    "str6=input(\"Enter String : \")\n",
    "count=0;\n",
    "for i in str6:\n",
    "    if(i in (\"aeiouAEIOU\")):\n",
    "        count+=1\n",
    "print(count)\n"
   ]
  },
  {
   "cell_type": "markdown",
   "metadata": {},
   "source": [
    "### 07) WAP to capitalize the first and last character of each word in a string."
   ]
  },
  {
   "cell_type": "code",
   "execution_count": 35,
   "metadata": {},
   "outputs": [
    {
     "name": "stdin",
     "output_type": "stream",
     "text": [
      "Enter String :  aayush renish\n"
     ]
    },
    {
     "name": "stdout",
     "output_type": "stream",
     "text": [
      "AayusH RenisH\n"
     ]
    }
   ],
   "source": [
    "str7=input(\"Enter String : \")\n",
    "list=str7.split(\" \")\n",
    "str7=\" \"\n",
    "for i in range(0,len(list)):\n",
    "    list[i]=list[i][0].upper()+list[i][1:-1]+list[i][-1].upper()\n",
    "str7=\" \".join(list)\n",
    "print(str7)\n",
    "    \n"
   ]
  },
  {
   "cell_type": "markdown",
   "metadata": {},
   "source": [
    "### 08) WAP to convert given array to string."
   ]
  },
  {
   "cell_type": "code",
   "execution_count": 45,
   "metadata": {},
   "outputs": [
    {
     "name": "stdout",
     "output_type": "stream",
     "text": [
      "Hyy I'm Ironman Love you 3000\n"
     ]
    }
   ],
   "source": [
    "arr=[\"Hyy\",\"I'm\",\"Ironman\",\"Love you\",3000]\n",
    "for i in range(0,len(arr)):\n",
    "    arr[i]=str(arr[i])\n",
    "s=\" \".join(arr)\n",
    "print(s)"
   ]
  },
  {
   "cell_type": "markdown",
   "metadata": {},
   "source": [
    "### 09) Check if the password and confirm password is same or not. \n",
    "### In case of only case's mistake, show the error message."
   ]
  },
  {
   "cell_type": "code",
   "execution_count": 47,
   "metadata": {},
   "outputs": [
    {
     "name": "stdin",
     "output_type": "stream",
     "text": [
      "Enter Password :  Aayush\n",
      "Re-Enter Password :  aayush\n"
     ]
    },
    {
     "name": "stdout",
     "output_type": "stream",
     "text": [
      "Not Same\n"
     ]
    }
   ],
   "source": [
    "Pass=input(\"Enter Password : \")\n",
    "CPass=input(\"Re-Enter Password : \")\n",
    "if(Pass==CPass):\n",
    "    print(\"No Problem!!\")\n",
    "else:\n",
    "    print(\"Not Same\")\n",
    "\n"
   ]
  },
  {
   "cell_type": "markdown",
   "metadata": {},
   "source": [
    "### 10) : Display credit card number. \n",
    "### card no. : 1234 5678 9012 3456\n",
    "### display as  : **** **** **** 3456"
   ]
  },
  {
   "cell_type": "code",
   "execution_count": 49,
   "metadata": {},
   "outputs": [
    {
     "name": "stdout",
     "output_type": "stream",
     "text": [
      "**** **** **** 3456\n"
     ]
    }
   ],
   "source": [
    "card=\"1234 5678 9012 3456\"\n",
    "card = \"*\" + card[1::]\n",
    "for i in range(1,14):\n",
    "    if(card[i]==\" \"): \n",
    "        continue\n",
    "    card = card[0:i] + \"*\" + card[i+1::]\n",
    "print(card)"
   ]
  },
  {
   "cell_type": "markdown",
   "metadata": {},
   "source": [
    "### 11) : Checking if the two strings are Anagram or not.\n",
    "### s1 = decimal and s2 = medical are Anagram"
   ]
  },
  {
   "cell_type": "code",
   "execution_count": 52,
   "metadata": {},
   "outputs": [
    {
     "name": "stdin",
     "output_type": "stream",
     "text": [
      "Enter String :  aayush\n",
      "Enter String :  shyua\n"
     ]
    },
    {
     "name": "stdout",
     "output_type": "stream",
     "text": [
      "Not Anagram\n"
     ]
    }
   ],
   "source": [
    "s1=input(\"Enter String : \")\n",
    "s2=input(\"Enter String : \")\n",
    "if(len(s1)!=len(s2)):\n",
    "    print(\"Not Anagram\")\n",
    "else:\n",
    "    for i in s1:\n",
    "        if(i not in s2):\n",
    "            print(\"Not Anagram\")\n",
    "            break\n",
    "    else:\n",
    "        print(\"Anagram\")\n",
    "        \n"
   ]
  },
  {
   "cell_type": "markdown",
   "metadata": {},
   "source": [
    "### 12) : Rearrange the given string. First lowercase then uppercase alphabets.\n",
    "### input : EHlsarwiwhtwMV\n",
    "### output : lsarwiwhtwEHMV"
   ]
  },
  {
   "cell_type": "code",
   "execution_count": 56,
   "metadata": {},
   "outputs": [
    {
     "name": "stdin",
     "output_type": "stream",
     "text": [
      "Enter String :  asfdsAASdd\n"
     ]
    },
    {
     "name": "stdout",
     "output_type": "stream",
     "text": [
      "AASasfdsdd\n"
     ]
    }
   ],
   "source": [
    "str12=input(\"Enter String : \")\n",
    "cs=\"\"\n",
    "ss=\"\"\n",
    "for i in str12:\n",
    "    if(i.isupper()):\n",
    "        cs=cs+i\n",
    "    else:\n",
    "        ss=ss+i\n",
    "str12=\"\"\n",
    "str12=ss+cs\n",
    "print(str12)\n",
    "\n"
   ]
  },
  {
   "cell_type": "code",
   "execution_count": null,
   "metadata": {},
   "outputs": [],
   "source": []
  }
 ],
 "metadata": {
  "kernelspec": {
   "display_name": "Python 3 (ipykernel)",
   "language": "python",
   "name": "python3"
  },
  "language_info": {
   "codemirror_mode": {
    "name": "ipython",
    "version": 3
   },
   "file_extension": ".py",
   "mimetype": "text/x-python",
   "name": "python",
   "nbconvert_exporter": "python",
   "pygments_lexer": "ipython3",
   "version": "3.12.7"
  },
  "vscode": {
   "interpreter": {
    "hash": "31f2aee4e71d21fbe5cf8b01ff0e069b9275f58929596ceb00d14d90e3e16cd6"
   }
  }
 },
 "nbformat": 4,
 "nbformat_minor": 4
}
