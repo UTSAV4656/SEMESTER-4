{
 "cells": [
  {
   "cell_type": "markdown",
   "metadata": {},
   "source": [
    "<a href='https://www.darshan.ac.in/'> <img src='https://www.darshan.ac.in/Content/media/DU_Logo.svg' width=\"250\" height=\"300\"/></a>\n",
    "<pre>\n",
    "<center><b><h1>Python Programming - 2301CS404</b></center>\n",
    "<center><b><h1>Lab - 9</b></center>    \n",
    "<pre>"
   ]
  },
  {
   "cell_type": "markdown",
   "metadata": {},
   "source": [
    "# File I/O"
   ]
  },
  {
   "cell_type": "markdown",
   "metadata": {},
   "source": [
    "### 01) WAP to read and display the contents of a text file. (also try to open the file in some other directory) \n",
    "#### - in the form of a string\n",
    "#### - line by line\n",
    "#### - in the form of a list"
   ]
  },
  {
   "cell_type": "code",
   "execution_count": 34,
   "metadata": {},
   "outputs": [
    {
     "name": "stdout",
     "output_type": "stream",
     "text": [
      "AFIPL8818G\n",
      "\n"
     ]
    }
   ],
   "source": [
    "# fp = open(\"File1.txt\",\"r\")\n",
    "\n",
    "#in the form of a string\n",
    "# data1 = fp.read()\n",
    "# print(data1)\n",
    "# print(type(data1))\n",
    "# fp.seek(0,0)\n",
    "\n",
    "# line by line \n",
    "# d = fp.readline()\n",
    "# while(d != \"\"):\n",
    "#     print(d, end = \"\")\n",
    "#     d = fp.readline()\n",
    "# fp.seek(0,0)\n",
    "\n",
    "# #in the form of a list\n",
    "# print(fp.readlines())\n",
    "\n",
    "#other directory\n",
    "fp = open(\"C:\\\\Users\\\\Admin\\\\Documents\\\\2101CS202-FE.txt\",\"r\")\n",
    "print(fp.readline())\n",
    "\n",
    "fp.close()"
   ]
  },
  {
   "cell_type": "markdown",
   "metadata": {},
   "source": [
    "### 02) WAP to create file named \"new.txt\" only if it doesn't exist."
   ]
  },
  {
   "cell_type": "code",
   "execution_count": 38,
   "metadata": {},
   "outputs": [
    {
     "ename": "FileExistsError",
     "evalue": "[Errno 17] File exists: 'new.txt'",
     "output_type": "error",
     "traceback": [
      "\u001b[1;31m---------------------------------------------------------------------------\u001b[0m",
      "\u001b[1;31mFileExistsError\u001b[0m                           Traceback (most recent call last)",
      "Cell \u001b[1;32mIn[38], line 1\u001b[0m\n\u001b[1;32m----> 1\u001b[0m fp \u001b[38;5;241m=\u001b[39m \u001b[38;5;28mopen\u001b[39m(\u001b[38;5;124m\"\u001b[39m\u001b[38;5;124mnew.txt\u001b[39m\u001b[38;5;124m\"\u001b[39m,\u001b[38;5;124m\"\u001b[39m\u001b[38;5;124mx\u001b[39m\u001b[38;5;124m\"\u001b[39m)\n\u001b[0;32m      2\u001b[0m fp\u001b[38;5;241m.\u001b[39mclose()\n",
      "File \u001b[1;32m~\\anaconda3\\Lib\\site-packages\\IPython\\core\\interactiveshell.py:324\u001b[0m, in \u001b[0;36m_modified_open\u001b[1;34m(file, *args, **kwargs)\u001b[0m\n\u001b[0;32m    317\u001b[0m \u001b[38;5;28;01mif\u001b[39;00m file \u001b[38;5;129;01min\u001b[39;00m {\u001b[38;5;241m0\u001b[39m, \u001b[38;5;241m1\u001b[39m, \u001b[38;5;241m2\u001b[39m}:\n\u001b[0;32m    318\u001b[0m     \u001b[38;5;28;01mraise\u001b[39;00m \u001b[38;5;167;01mValueError\u001b[39;00m(\n\u001b[0;32m    319\u001b[0m         \u001b[38;5;124mf\u001b[39m\u001b[38;5;124m\"\u001b[39m\u001b[38;5;124mIPython won\u001b[39m\u001b[38;5;124m'\u001b[39m\u001b[38;5;124mt let you open fd=\u001b[39m\u001b[38;5;132;01m{\u001b[39;00mfile\u001b[38;5;132;01m}\u001b[39;00m\u001b[38;5;124m by default \u001b[39m\u001b[38;5;124m\"\u001b[39m\n\u001b[0;32m    320\u001b[0m         \u001b[38;5;124m\"\u001b[39m\u001b[38;5;124mas it is likely to crash IPython. If you know what you are doing, \u001b[39m\u001b[38;5;124m\"\u001b[39m\n\u001b[0;32m    321\u001b[0m         \u001b[38;5;124m\"\u001b[39m\u001b[38;5;124myou can use builtins\u001b[39m\u001b[38;5;124m'\u001b[39m\u001b[38;5;124m open.\u001b[39m\u001b[38;5;124m\"\u001b[39m\n\u001b[0;32m    322\u001b[0m     )\n\u001b[1;32m--> 324\u001b[0m \u001b[38;5;28;01mreturn\u001b[39;00m io_open(file, \u001b[38;5;241m*\u001b[39margs, \u001b[38;5;241m*\u001b[39m\u001b[38;5;241m*\u001b[39mkwargs)\n",
      "\u001b[1;31mFileExistsError\u001b[0m: [Errno 17] File exists: 'new.txt'"
     ]
    }
   ],
   "source": [
    "fp = open(\"new.txt\",\"x\")\n",
    "fp.close()"
   ]
  },
  {
   "cell_type": "markdown",
   "metadata": {},
   "source": [
    "### 03) WAP to read first 5 lines from the text file."
   ]
  },
  {
   "cell_type": "code",
   "execution_count": 40,
   "metadata": {},
   "outputs": [
    {
     "name": "stdout",
     "output_type": "stream",
     "text": [
      "Hello Students...!!!\n",
      "How are you?\n",
      "I'm Fine\n",
      "What about you?\n",
      "I'm also fine\n"
     ]
    }
   ],
   "source": [
    "fp = open(\"File1.txt\",\"r\")\n",
    "c = 0\n",
    "d = fp.readline()\n",
    "while(c<5):\n",
    "    print(d, end = \"\")\n",
    "    d = fp.readline()\n",
    "    c+=1\n",
    "fp.close()"
   ]
  },
  {
   "cell_type": "markdown",
   "metadata": {},
   "source": [
    "### 04) WAP to find the longest word(s) in a file"
   ]
  },
  {
   "cell_type": "code",
   "execution_count": 46,
   "metadata": {},
   "outputs": [
    {
     "name": "stdout",
     "output_type": "stream",
     "text": [
      "['Studen', 'kckcph']\n"
     ]
    }
   ],
   "source": [
    "fp = open(\"File1.txt\",\"r\")\n",
    "wl = fp.read().split()\n",
    "w_len = list(map(len,wl))\n",
    "maxi = max(w_len)\n",
    "ans = [i for i in wl if len(i) == maxi]\n",
    "print(ans)\n",
    "fp.close()"
   ]
  },
  {
   "cell_type": "markdown",
   "metadata": {},
   "source": [
    "### 05) WAP to count the no. of lines, words and characters in a given text file."
   ]
  },
  {
   "cell_type": "code",
   "execution_count": 54,
   "metadata": {},
   "outputs": [
    {
     "name": "stdout",
     "output_type": "stream",
     "text": [
      "Lines 6, Words 14, characters 58\n"
     ]
    }
   ],
   "source": [
    "fp = open(\"File1.txt\",\"r\")\n",
    "l = 0\n",
    "w = 0\n",
    "c = 0\n",
    "for i in fp:\n",
    "    l += 1\n",
    "    for j in i.split():\n",
    "        w += 1\n",
    "        for k in j:\n",
    "            c += 1\n",
    "print(f\"Lines {l}, Words {w}, characters {c}\")\n",
    "fp.close()"
   ]
  },
  {
   "cell_type": "markdown",
   "metadata": {},
   "source": [
    "### 06) WAP to copy the content of a file to the another file."
   ]
  },
  {
   "cell_type": "code",
   "execution_count": 58,
   "metadata": {},
   "outputs": [],
   "source": [
    "fp = open(\"File1.txt\",\"r\")\n",
    "data = fp.read()\n",
    "fw = open(\"Copy1.txt\",\"w\")\n",
    "fw.write(data)\n",
    "fp.close()\n",
    "fw.close()"
   ]
  },
  {
   "cell_type": "markdown",
   "metadata": {},
   "source": [
    "### 07) WAP to find the size of the text file. "
   ]
  },
  {
   "cell_type": "code",
   "execution_count": 62,
   "metadata": {},
   "outputs": [
    {
     "name": "stdout",
     "output_type": "stream",
     "text": [
      "size of this file :  71 B\n"
     ]
    }
   ],
   "source": [
    "import os\n",
    "s = os.path.getsize(\"File1.txt\")\n",
    "print(\"size of this file : \",s,\"B\")"
   ]
  },
  {
   "cell_type": "markdown",
   "metadata": {},
   "source": [
    "### 08) WAP to create an UDF named frequency to count occurances of the specific word in a given text file."
   ]
  },
  {
   "cell_type": "code",
   "execution_count": 70,
   "metadata": {},
   "outputs": [
    {
     "name": "stdin",
     "output_type": "stream",
     "text": [
      "Enter words: kckcph\n"
     ]
    },
    {
     "name": "stdout",
     "output_type": "stream",
     "text": [
      "5\n"
     ]
    }
   ],
   "source": [
    "word = input(\"Enter words:\")\n",
    "fp = open(\"File1.txt\",\"r\")\n",
    "def frequency(f,w):\n",
    "    c = 0\n",
    "    for i in f:\n",
    "        for j in i.split():\n",
    "            if(j == w):\n",
    "                c += 1\n",
    "    return c\n",
    "print(frequency(fp,word))\n",
    "fp.close()"
   ]
  },
  {
   "cell_type": "markdown",
   "metadata": {},
   "source": [
    "### 09) WAP to get the score of five subjects from the user, store them in a file. Fetch those marks and find the highest score."
   ]
  },
  {
   "cell_type": "code",
   "execution_count": 72,
   "metadata": {},
   "outputs": [
    {
     "name": "stdout",
     "output_type": "stream",
     "text": [
      "100\n"
     ]
    }
   ],
   "source": [
    "d={\"A\":95,\"B\":99,\"C\":100,\"D\":97,\"E\":20}\n",
    "m=0\n",
    "f=open(\"Marks.txt\",\"x\")\n",
    "for i in d.keys():\n",
    "    if(d[i]>m):\n",
    "        m=d[i]\n",
    "    f.write(f\"{i} : {d[i]} \\n\")\n",
    "f.close()\n",
    "\n",
    "print(m)"
   ]
  },
  {
   "cell_type": "markdown",
   "metadata": {},
   "source": [
    "### 10) WAP to write first 100 prime numbers to a file named primenumbers.txt \n",
    "(Note: each number should be in new line)"
   ]
  },
  {
   "cell_type": "code",
   "execution_count": 74,
   "metadata": {},
   "outputs": [],
   "source": [
    "fp = open(\"primenumbers.txt\", 'w')\n",
    "\n",
    "primes = []\n",
    "number = 2\n",
    "\n",
    "while len(primes) < 100:\n",
    "    is_prime = True\n",
    "    for i in range(2, int(number**0.5) + 1):\n",
    "        if number % i == 0:\n",
    "            is_prime = False\n",
    "            break\n",
    "\n",
    "    if is_prime:\n",
    "        primes.append(number)\n",
    "        fp.write(f\"{number}\\n\")\n",
    "\n",
    "    number += 1\n",
    "\n",
    "fp.close()"
   ]
  },
  {
   "cell_type": "markdown",
   "metadata": {},
   "source": [
    "### 11) WAP to merge two files and write it in a new file."
   ]
  },
  {
   "cell_type": "code",
   "execution_count": 82,
   "metadata": {},
   "outputs": [],
   "source": [
    "f1=open(\"File1.txt\")\n",
    "d1=f1.read()\n",
    "f1.close()\n",
    "\n",
    "f2=open(\"new.txt\")\n",
    "d2=f2.read()\n",
    "f2.close()\n",
    "\n",
    "f=open(\"P11.txt\",\"x\")\n",
    "f.write(d1+d2)\n",
    "f.close()"
   ]
  },
  {
   "cell_type": "markdown",
   "metadata": {},
   "source": [
    "### 12) WAP to replace word1 by word2 of a text file. Write the updated data to new file."
   ]
  },
  {
   "cell_type": "code",
   "execution_count": 80,
   "metadata": {},
   "outputs": [
    {
     "name": "stdout",
     "output_type": "stream",
     "text": [
      "Replaced 'oldword' with 'newword'\n"
     ]
    }
   ],
   "source": [
    "word1 = \"oldword\"\n",
    "word2 = \"newword\"\n",
    "\n",
    "fp = open(\"input.txt\", 'r')\n",
    "data = fp.read()\n",
    "fp.close()\n",
    "\n",
    "updated_data = data.replace(word1, word2)\n",
    "\n",
    "fp = open(\"output.txt\", 'w')\n",
    "fp.write(updated_data)\n",
    "fp.close()\n",
    "\n",
    "print(f\"Replaced '{word1}' with '{word2}'\")"
   ]
  },
  {
   "cell_type": "markdown",
   "metadata": {},
   "source": [
    "### 13) Demonstrate tell() and seek() for all the cases(seek from beginning-end-current position) taking a suitable example of your choice."
   ]
  },
  {
   "cell_type": "code",
   "execution_count": null,
   "metadata": {},
   "outputs": [],
   "source": []
  }
 ],
 "metadata": {
  "kernelspec": {
   "display_name": "Python 3 (ipykernel)",
   "language": "python",
   "name": "python3"
  },
  "language_info": {
   "codemirror_mode": {
    "name": "ipython",
    "version": 3
   },
   "file_extension": ".py",
   "mimetype": "text/x-python",
   "name": "python",
   "nbconvert_exporter": "python",
   "pygments_lexer": "ipython3",
   "version": "3.12.7"
  }
 },
 "nbformat": 4,
 "nbformat_minor": 4
}
