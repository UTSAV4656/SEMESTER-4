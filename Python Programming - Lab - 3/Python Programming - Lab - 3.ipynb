{
 "cells": [
  {
   "cell_type": "markdown",
   "metadata": {},
   "source": [
    "\n",
    "<a href='https://www.darshan.ac.in/'> <img src='https://www.darshan.ac.in/Content/media/DU_Logo.svg' width=\"250\" height=\"300\"/></a>\n",
    "<pre>\n",
    "<center><b><h1>Python Programming - 2301CS404</b></center>\n",
    "<center><b><h1>Lab - 3</b></center>    \n",
    "<pre>"
   ]
  },
  {
   "cell_type": "markdown",
   "metadata": {},
   "source": [
    "# for and while loop"
   ]
  },
  {
   "cell_type": "markdown",
   "metadata": {},
   "source": [
    "### 01) WAP to print 1 to 10."
   ]
  },
  {
   "cell_type": "code",
   "execution_count": 2,
   "metadata": {},
   "outputs": [
    {
     "name": "stdout",
     "output_type": "stream",
     "text": [
      "1\n",
      "2\n",
      "3\n",
      "4\n",
      "5\n",
      "6\n",
      "7\n",
      "8\n",
      "9\n",
      "10\n",
      "Work Finished\n"
     ]
    }
   ],
   "source": [
    "for x in range(1,11):\n",
    "    print(x)\n",
    "else:\n",
    "    print(\"Work Finished\")"
   ]
  },
  {
   "cell_type": "markdown",
   "metadata": {},
   "source": [
    "### 02) WAP to print 1 to n."
   ]
  },
  {
   "cell_type": "code",
   "execution_count": 4,
   "metadata": {},
   "outputs": [
    {
     "name": "stdout",
     "output_type": "stream",
     "text": [
      "Enter value of n :10\n",
      "1\n",
      "2\n",
      "3\n",
      "4\n",
      "5\n",
      "6\n",
      "7\n",
      "8\n",
      "9\n",
      "10\n",
      "Work Finished\n"
     ]
    }
   ],
   "source": [
    "n = int(input(\"Enter value of n :\"))\n",
    "for x in range(1,n+1):\n",
    "    print(x)\n",
    "else:\n",
    "    print(\"Work Finished\")"
   ]
  },
  {
   "cell_type": "markdown",
   "metadata": {},
   "source": [
    "### 03) WAP to print odd numbers between 1 to n."
   ]
  },
  {
   "cell_type": "code",
   "execution_count": 9,
   "metadata": {},
   "outputs": [
    {
     "name": "stdout",
     "output_type": "stream",
     "text": [
      "Enter value of n :10\n",
      "1\n",
      "3\n",
      "5\n",
      "7\n",
      "9\n",
      "Work Finished\n"
     ]
    }
   ],
   "source": [
    "n = int(input(\"Enter value of n :\"))\n",
    "for x in range(1,n+1,2):\n",
    "    print(x)\n",
    "else:\n",
    "    print(\"Work Finished\")"
   ]
  },
  {
   "cell_type": "markdown",
   "metadata": {},
   "source": [
    "### 04) WAP to print numbers between two given numbers which is divisible by 2 but not divisible by 3."
   ]
  },
  {
   "cell_type": "code",
   "execution_count": 10,
   "metadata": {},
   "outputs": [
    {
     "name": "stdout",
     "output_type": "stream",
     "text": [
      "Enter value of a :10\n",
      "Enter value of b :20\n",
      "10\n",
      "14\n",
      "16\n",
      "20\n",
      "Work Finished\n"
     ]
    }
   ],
   "source": [
    "a = int(input(\"Enter value of a :\"))\n",
    "b = int(input(\"Enter value of b :\"))\n",
    "\n",
    "for x in range(a,b+1):\n",
    "    if(x % 2 == 0):\n",
    "        if(x % 3 != 0):\n",
    "            print(x)\n",
    "else:\n",
    "    print(\"Work Finished\")"
   ]
  },
  {
   "cell_type": "markdown",
   "metadata": {},
   "source": [
    "### 05) WAP to print sum of 1 to n numbers."
   ]
  },
  {
   "cell_type": "code",
   "execution_count": 13,
   "metadata": {},
   "outputs": [
    {
     "name": "stdout",
     "output_type": "stream",
     "text": [
      "Enter value of n :10\n",
      "Sum of 1 to  10  :  55\n"
     ]
    }
   ],
   "source": [
    "n = int(input(\"Enter value of n :\"))\n",
    "ans = 0\n",
    "for x in range(1,n+1):\n",
    "    ans = ans + x\n",
    "else:\n",
    "    print(\"Sum of 1 to \",n,\" : \",ans)"
   ]
  },
  {
   "cell_type": "markdown",
   "metadata": {},
   "source": [
    "### 06) WAP to print sum of series 1 + 4 + 9 + 16 + 25 + 36 + ...n."
   ]
  },
  {
   "cell_type": "code",
   "execution_count": 16,
   "metadata": {},
   "outputs": [
    {
     "name": "stdout",
     "output_type": "stream",
     "text": [
      "Enter value of n :10\n",
      "Sum of 1 + 4 + 9 + 16 + 25 + 36 + ...  10  :  385\n"
     ]
    }
   ],
   "source": [
    "n = int(input(\"Enter value of n :\"))\n",
    "ans = 0\n",
    "for x in range(1,n+1):\n",
    "    ans = ans + (x*x)\n",
    "else:\n",
    "    print(\"Sum of 1 + 4 + 9 + 16 + 25 + 36 + ... \",n,\" : \",ans)"
   ]
  },
  {
   "cell_type": "markdown",
   "metadata": {},
   "source": [
    "### 07) WAP to print sum of series 1 – 2 + 3 – 4 + 5 – 6 + 7 ... n."
   ]
  },
  {
   "cell_type": "code",
   "execution_count": 17,
   "metadata": {},
   "outputs": [
    {
     "name": "stdout",
     "output_type": "stream",
     "text": [
      "Enter value of n :10\n",
      "Sum of 1 – 2 + 3 – 4 + 5 – 6 + 7 ...   10  :  -5\n"
     ]
    }
   ],
   "source": [
    "n = int(input(\"Enter value of n :\"))\n",
    "ans1 = 0\n",
    "ans2 = 0\n",
    "\n",
    "for x in range(1,n+1,2):\n",
    "    ans1 += x\n",
    "for x in range(2,n+1,2):\n",
    "    ans2 += x\n",
    "    \n",
    "Total = ans1 - ans2\n",
    "print(\"Sum of 1 – 2 + 3 – 4 + 5 – 6 + 7 ...  \",n,\" : \",Total)"
   ]
  },
  {
   "cell_type": "markdown",
   "metadata": {},
   "source": [
    "### 08) WAP to print multiplication table of given number."
   ]
  },
  {
   "cell_type": "code",
   "execution_count": 19,
   "metadata": {},
   "outputs": [
    {
     "name": "stdout",
     "output_type": "stream",
     "text": [
      "Enter value of n :10\n",
      "10  X  1  =  10\n",
      "10  X  2  =  20\n",
      "10  X  3  =  30\n",
      "10  X  4  =  40\n",
      "10  X  5  =  50\n",
      "10  X  6  =  60\n",
      "10  X  7  =  70\n",
      "10  X  8  =  80\n",
      "10  X  9  =  90\n",
      "10  X  10  =  100\n"
     ]
    }
   ],
   "source": [
    "n = int(input(\"Enter value of n :\"))\n",
    "for x in range(1,n+1):\n",
    "    print(n,\" X \",x,\" = \",n*x)"
   ]
  },
  {
   "cell_type": "markdown",
   "metadata": {},
   "source": [
    "### 09) WAP to find factorial of the given number."
   ]
  },
  {
   "cell_type": "code",
   "execution_count": 20,
   "metadata": {},
   "outputs": [
    {
     "name": "stdout",
     "output_type": "stream",
     "text": [
      "Enter value of n :5\n",
      "5 ! =  120\n"
     ]
    }
   ],
   "source": [
    "n = int(input(\"Enter value of n :\"))\n",
    "ans = 1\n",
    "for x in range(1,n+1):\n",
    "    ans *= x\n",
    "else:\n",
    "    print(n,\"! = \",ans)"
   ]
  },
  {
   "cell_type": "markdown",
   "metadata": {},
   "source": [
    "### 10) WAP to find factors of the given number."
   ]
  },
  {
   "cell_type": "code",
   "execution_count": 21,
   "metadata": {},
   "outputs": [
    {
     "name": "stdout",
     "output_type": "stream",
     "text": [
      "Enter a number to find factors :320\n",
      "The factors of 320 are:\n",
      "1\n",
      "2\n",
      "4\n",
      "5\n",
      "8\n",
      "10\n",
      "16\n",
      "20\n",
      "32\n",
      "40\n",
      "64\n",
      "80\n",
      "160\n",
      "320\n"
     ]
    }
   ],
   "source": [
    "x = int(input(\"Enter a number to find factors :\"))\n",
    "print(\"The factors of\",x,\"are:\")\n",
    "for i in range(1, x + 1):\n",
    "    if x % i == 0:\n",
    "        print(i)"
   ]
  },
  {
   "cell_type": "markdown",
   "metadata": {},
   "source": [
    "### 11) WAP to find whether the given number is prime or not."
   ]
  },
  {
   "cell_type": "code",
   "execution_count": 27,
   "metadata": {},
   "outputs": [
    {
     "name": "stdout",
     "output_type": "stream",
     "text": [
      "Enter a number to check :35\n",
      "35 is not a prime number\n"
     ]
    }
   ],
   "source": [
    "n = int(input(\"Enter a number to check :\"))\n",
    "if n > 1:\n",
    "    for i in range(2, (n//2)+1):\n",
    "        if (n % i) == 0:\n",
    "            print(n, \"is not a prime number\")\n",
    "            break\n",
    "    else:\n",
    "        print(n, \"is a prime number\")\n",
    "else:\n",
    "    print(n, \"is not a prime number\")"
   ]
  },
  {
   "cell_type": "markdown",
   "metadata": {},
   "source": [
    "### 12) WAP to print sum of digits of given number."
   ]
  },
  {
   "cell_type": "code",
   "execution_count": 33,
   "metadata": {},
   "outputs": [
    {
     "name": "stdout",
     "output_type": "stream",
     "text": [
      "enter a number : 15\n",
      "sum =  6\n"
     ]
    }
   ],
   "source": [
    "x = int(input(\"enter a number : \"))\n",
    "sum = 0\n",
    "rem = 0\n",
    "while x>0 :\n",
    "    rem = (x % 10)\n",
    "    sum += rem\n",
    "    x = int(x/10)\n",
    "print(\"sum = \",sum)"
   ]
  },
  {
   "cell_type": "markdown",
   "metadata": {},
   "source": [
    "### 13) WAP to check whether the given number is palindrome or not"
   ]
  },
  {
   "cell_type": "code",
   "execution_count": 34,
   "metadata": {},
   "outputs": [
    {
     "name": "stdout",
     "output_type": "stream",
     "text": [
      "enter a number121\n",
      "palindrome\n"
     ]
    }
   ],
   "source": [
    "n = int(input(\"enter a number\"))\n",
    "sum = n\n",
    "rev = 0\n",
    "while(n > 0):\n",
    "    rev = (rev * 10 + int(n % 10))\n",
    "    n = int(n / 10)\n",
    "if(sum == rev):\n",
    "    print(\"palindrome\")\n",
    "else:\n",
    "    print(\"not\")"
   ]
  },
  {
   "cell_type": "markdown",
   "metadata": {},
   "source": [
    "### 14) WAP to print GCD of given two numbers."
   ]
  },
  {
   "cell_type": "code",
   "execution_count": 35,
   "metadata": {},
   "outputs": [
    {
     "name": "stdout",
     "output_type": "stream",
     "text": [
      "enter a number a : 15\n",
      "enter a number b : 156\n",
      "3\n"
     ]
    }
   ],
   "source": [
    "a=int(input(\"enter a number a : \"))\n",
    "b=int(input(\"enter a number b : \"))\n",
    "while(a > 0 and b > 0):\n",
    "    if(a > b):\n",
    "        a = a % b\n",
    "    else:\n",
    "        b = b % a\n",
    "if(a == 0):\n",
    "    print(b)\n",
    "else:\n",
    "    print(a)"
   ]
  }
 ],
 "metadata": {
  "kernelspec": {
   "display_name": "Python 3 (ipykernel)",
   "language": "python",
   "name": "python3"
  },
  "language_info": {
   "codemirror_mode": {
    "name": "ipython",
    "version": 3
   },
   "file_extension": ".py",
   "mimetype": "text/x-python",
   "name": "python",
   "nbconvert_exporter": "python",
   "pygments_lexer": "ipython3",
   "version": "3.10.9"
  }
 },
 "nbformat": 4,
 "nbformat_minor": 4
}
