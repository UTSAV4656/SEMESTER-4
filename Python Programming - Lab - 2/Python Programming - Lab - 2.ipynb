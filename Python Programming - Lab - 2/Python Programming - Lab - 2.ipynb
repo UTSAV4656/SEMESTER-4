{
 "cells": [
  {
   "cell_type": "markdown",
   "metadata": {},
   "source": [
    "\n",
    "<a href='https://www.darshan.ac.in/'> <img src='https://www.darshan.ac.in/Content/media/DU_Logo.svg' width=\"250\" height=\"300\"/></a>\n",
    "<pre>\n",
    "<center><b><h1>Python Programming - 2301CS404</b></center>\n",
    "<center><b><h1>Lab - 2</b></center>    \n",
    "<pre>"
   ]
  },
  {
   "cell_type": "markdown",
   "metadata": {},
   "source": [
    "# if..else.."
   ]
  },
  {
   "cell_type": "markdown",
   "metadata": {},
   "source": [
    "### 01) WAP to check whether the given number is positive or negative."
   ]
  },
  {
   "cell_type": "code",
   "execution_count": 2,
   "metadata": {},
   "outputs": [
    {
     "name": "stdout",
     "output_type": "stream",
     "text": [
      "Enter Your No : -10\n",
      "-10  is negative number\n"
     ]
    }
   ],
   "source": [
    "a = int(input(\"Enter Your No : \"))\n",
    "if (a < 0):\n",
    "    print(a,\" is negative number\")\n",
    "else:\n",
    "    print(a,\" is positive number\")"
   ]
  },
  {
   "cell_type": "markdown",
   "metadata": {},
   "source": [
    "### 02) WAP to check whether the given number is odd or even."
   ]
  },
  {
   "cell_type": "code",
   "execution_count": 3,
   "metadata": {},
   "outputs": [
    {
     "name": "stdout",
     "output_type": "stream",
     "text": [
      "Enter Your No : 10\n",
      "10  is Even number\n"
     ]
    }
   ],
   "source": [
    "a = int(input(\"Enter Your No : \"))\n",
    "if (a % 2 == 0):\n",
    "    print(a,\" is Even number\")\n",
    "else:\n",
    "    print(a,\" is Odd number\")"
   ]
  },
  {
   "cell_type": "markdown",
   "metadata": {},
   "source": [
    "### 03) WAP to find out largest number from given two numbers using simple if and ternary operator."
   ]
  },
  {
   "cell_type": "code",
   "execution_count": 4,
   "metadata": {},
   "outputs": [
    {
     "name": "stdout",
     "output_type": "stream",
     "text": [
      "Enter Your No 1: 10\n",
      "Enter Your No 2: 20\n",
      "20  is largest number\n"
     ]
    }
   ],
   "source": [
    "a = int(input(\"Enter Your No 1: \"))\n",
    "b = int(input(\"Enter Your No 2: \"))\n",
    "if (a > b):\n",
    "    print(a,\" is largest number\")\n",
    "else:\n",
    "    print(b,\" is largest number\")"
   ]
  },
  {
   "cell_type": "markdown",
   "metadata": {},
   "source": [
    "### 04) WAP to find out largest number from given three numbers."
   ]
  },
  {
   "cell_type": "code",
   "execution_count": 6,
   "metadata": {},
   "outputs": [
    {
     "name": "stdout",
     "output_type": "stream",
     "text": [
      "Enter Your No 1: 10\n",
      "Enter Your No 2: 20\n",
      "Enter Your No 3: 30\n",
      "Your Maximum Number is 30\n"
     ]
    }
   ],
   "source": [
    "a = int(input(\"Enter Your No 1: \"))\n",
    "b = int(input(\"Enter Your No 2: \"))\n",
    "c = int(input(\"Enter Your No 3: \"))\n",
    "\n",
    "if (a >= b) and (a >= c): \n",
    "    max = a \n",
    "elif (b >= a) and (b >= c): \n",
    "    max = b \n",
    "else: \n",
    "     max = c\n",
    "        \n",
    "print(\"Your Maximum Number is\",max)"
   ]
  },
  {
   "cell_type": "markdown",
   "metadata": {},
   "source": [
    "### 05) WAP to check whether the given year is leap year or not.\n",
    "[If a year can be divisible by 4 but not divisible by 100 then it is leap year but if it is divisible by 400 then it is leap year]"
   ]
  },
  {
   "cell_type": "code",
   "execution_count": 5,
   "metadata": {},
   "outputs": [
    {
     "name": "stdout",
     "output_type": "stream",
     "text": [
      "Enter Year To Check : 2000\n",
      "2000  is leap year\n"
     ]
    }
   ],
   "source": [
    "y = int(input(\"Enter Year To Check : \"))\n",
    "\n",
    "if ((y % 400 == 0) or (y % 100 != 0) and (y % 4 == 0)):\n",
    "    print(y,\" is leap year\")\n",
    "else:\n",
    "    print(y,\" is not leap year\")"
   ]
  },
  {
   "cell_type": "markdown",
   "metadata": {},
   "source": [
    "### 06) WAP in python to display the name of the day according to the number given by the user."
   ]
  },
  {
   "cell_type": "code",
   "execution_count": 9,
   "metadata": {},
   "outputs": [
    {
     "name": "stdout",
     "output_type": "stream",
     "text": [
      "Enter Your No : 154\n",
      "Number not valid\n"
     ]
    }
   ],
   "source": [
    "a = int(input(\"Enter Your No : \"))\n",
    "\n",
    "b = a % 7\n",
    "\n",
    "match b :\n",
    "        case 0:\n",
    "            print(\"Monday\")\n",
    "        case 1:\n",
    "            print(\"Tuesday\")\n",
    "        case 2:\n",
    "            print(\"Wednesday\")\n",
    "        case 3:\n",
    "            print(\"Thursday\")\n",
    "        case 4:\n",
    "            print(\"Friday\")\n",
    "        case 5:\n",
    "            print(\"Saturday\")\n",
    "        case 6:\n",
    "            print(\"Sunday\")\n",
    "        case _:\n",
    "            print(\"Number not valid\")"
   ]
  },
  {
   "cell_type": "markdown",
   "metadata": {},
   "source": [
    "### 07) WAP to implement simple calculator which performs (add,sub,mul,div) of two no. based on user input."
   ]
  },
  {
   "cell_type": "code",
   "execution_count": 10,
   "metadata": {},
   "outputs": [
    {
     "name": "stdout",
     "output_type": "stream",
     "text": [
      "Enter Your a : 10\n",
      "Enter symbol for calculation :+\n",
      "Enter Your b : 10\n",
      "10  +  10  =  20\n"
     ]
    }
   ],
   "source": [
    "a = int(input(\"Enter Your a : \"))\n",
    "key = input(\"Enter symbol for calculation :\")\n",
    "b = int(input(\"Enter Your b : \"))\n",
    "\n",
    "match key:\n",
    "    case \"+\":\n",
    "        print(a,\" + \",b,\" = \",(a+b))\n",
    "    case \"-\":\n",
    "        print(a,\" - \",b,\" = \",(a-b))\n",
    "    case \"/\":\n",
    "        print(a,\" / \",b,\" = \",(a/b))\n",
    "    case \"*\":\n",
    "        print(a,\" * \",b,\" = \",(a*b))\n",
    "        "
   ]
  },
  {
   "cell_type": "markdown",
   "metadata": {},
   "source": [
    "### 08) WAP to read marks of five subjects. Calculate percentage and print class accordingly. \n",
    "Fail below 35 </br>\n",
    "Pass Class between 35 to 45 </br>\n",
    "Second Class</br>\n",
    "between 45 to 60</br>\n",
    "First Class between 60 to 70</br> \n",
    "Distinction if more than 70"
   ]
  },
  {
   "cell_type": "code",
   "execution_count": 13,
   "metadata": {},
   "outputs": [
    {
     "name": "stdout",
     "output_type": "stream",
     "text": [
      "Enter Marks Of Subject 1 : 80\n",
      "Enter Marks Of Subject 2 : 90\n",
      "Enter Marks Of Subject 3 : 95\n",
      "Enter Marks Of Subject 4 : 95\n",
      "Enter Marks Of Subject 5 : 80\n",
      "Percentage :  88.0\n",
      "Distinction\n"
     ]
    }
   ],
   "source": [
    "s1 = int(input(\"Enter Marks Of Subject 1 : \"))\n",
    "s2 = int(input(\"Enter Marks Of Subject 2 : \"))\n",
    "s3 = int(input(\"Enter Marks Of Subject 3 : \"))\n",
    "s4 = int(input(\"Enter Marks Of Subject 4 : \"))\n",
    "s5 = int(input(\"Enter Marks Of Subject 5 : \"))\n",
    "\n",
    "total = s1 + s2 + s3 + s4 + s5\n",
    "per = (total/500)*100\n",
    "\n",
    "print(\"Percentage : \",per)\n",
    "if(per < 35):\n",
    "    print(\"Fail\")\n",
    "elif(per>35 and per<45):\n",
    "    print(\"Pass\")\n",
    "elif(per>45 and per<60):\n",
    "    print(\"Pass\")\n",
    "elif(per>60 and per<70):\n",
    "    print(\"Pass\")\n",
    "else:\n",
    "    print(\"Distinction\")\n"
   ]
  },
  {
   "cell_type": "markdown",
   "metadata": {},
   "source": [
    "### 09) Three sides of a triangle are entered through the keyboard, WAP to check whether the triangle is isosceles, equilateral, scalene or right-angled triangle."
   ]
  },
  {
   "cell_type": "code",
   "execution_count": null,
   "metadata": {},
   "outputs": [],
   "source": [
    "l=int(input(\"enter  num :\"))\n",
    "b=int(input(\"enter  num :\"))\n",
    "h=int(input(\"enter  num :\"))\n",
    "\n",
    "if(l==b==h):\n",
    "    print(\"equilent\")\n",
    "elif(l==b or l==h or h==b):\n",
    "    print(\"isoscecle\")\n",
    "else:\n",
    "    print(\"scalen\")"
   ]
  },
  {
   "cell_type": "markdown",
   "metadata": {},
   "source": [
    "### 10) WAP to find the second largest number among three user input numbers."
   ]
  },
  {
   "cell_type": "code",
   "execution_count": null,
   "metadata": {},
   "outputs": [],
   "source": [
    "num1 =int(input(\"Enter num1 : \"))\n",
    "num2 =int(input(\"Enter num2 : \"))\n",
    "num3 =int(input(\"Enter num3 : \"))\n",
    "\n",
    "if (num1 > num2 and num1 < num3) or (num1 < num2 and num1 > num3):\n",
    "    second_largest = num1\n",
    "elif (num2 > num1 and num2 < num3) or (num2 < num1 and num2 > num3):\n",
    "    second_largest = num2\n",
    "else:\n",
    "    second_largest = num3\n",
    "\n",
    "\n",
    "print(\"The second largest number is:\", second_largest)"
   ]
  },
  {
   "cell_type": "markdown",
   "metadata": {},
   "source": [
    "### 11) WAP to calculate electricity bill based on following criteria. Which takes the unit from the user.\n",
    "a. First 1 to 50 units – Rs. 2.60/unit</br>\n",
    "b. Next 50 to 100 units – Rs. 3.25/unit</br>\n",
    "c. Next 100 to 200 units – Rs. 5.26/unit</br>\n",
    "d. above 200 units – Rs. 8.45/unit"
   ]
  },
  {
   "cell_type": "code",
   "execution_count": 16,
   "metadata": {},
   "outputs": [
    {
     "name": "stdout",
     "output_type": "stream",
     "text": [
      "Enter Unit : 100\n",
      "Bill :  292.5\n"
     ]
    }
   ],
   "source": [
    "unit = int(input(\"Enter Unit : \"))\n",
    "r = 0\n",
    "\n",
    "if(unit <= 50):\n",
    "    r = unit*2.60\n",
    "    print(\"Bill : \",(r))\n",
    "elif(unit>50 and unit<=100):\n",
    "    r = (unit-50)*3.25 + 50*2.60\n",
    "    print(\"Bill : \",(r))\n",
    "elif(unit>100 and unit<=200):\n",
    "    r = 50*2.60 + 50*3.60 + (unit-100)*5.26\n",
    "    print(\"Bill : \",(r))\n",
    "else:\n",
    "    r = 50*2.60 + 50*3.60 + 100*5.26 + (unit-200)*8.45\n",
    "    print(\"Bill : \",(r))"
   ]
  },
  {
   "cell_type": "code",
   "execution_count": null,
   "metadata": {},
   "outputs": [],
   "source": []
  }
 ],
 "metadata": {
  "kernelspec": {
   "display_name": "Python 3 (ipykernel)",
   "language": "python",
   "name": "python3"
  },
  "language_info": {
   "codemirror_mode": {
    "name": "ipython",
    "version": 3
   },
   "file_extension": ".py",
   "mimetype": "text/x-python",
   "name": "python",
   "nbconvert_exporter": "python",
   "pygments_lexer": "ipython3",
   "version": "3.10.9"
  }
 },
 "nbformat": 4,
 "nbformat_minor": 4
}
