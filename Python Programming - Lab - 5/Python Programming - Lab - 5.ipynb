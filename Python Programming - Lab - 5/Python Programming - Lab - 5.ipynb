{
 "cells": [
  {
   "cell_type": "markdown",
   "metadata": {},
   "source": [
    "\n",
    "<a href='https://www.darshan.ac.in/'> <img src='https://www.darshan.ac.in/Content/media/DU_Logo.svg' width=\"250\" height=\"300\"/></a>\n",
    "<pre>\n",
    "<center><b><h1>Python Programming - 2301CS404</b></center>\n",
    "<center><b><h1>Lab - 5</b></center>    \n",
    "<pre>"
   ]
  },
  {
   "cell_type": "markdown",
   "metadata": {},
   "source": [
    "# List"
   ]
  },
  {
   "cell_type": "markdown",
   "metadata": {},
   "source": [
    "### 01) WAP to find sum of all the elements in a List."
   ]
  },
  {
   "cell_type": "code",
   "execution_count": 1,
   "metadata": {},
   "outputs": [
    {
     "name": "stdout",
     "output_type": "stream",
     "text": [
      "11\n"
     ]
    }
   ],
   "source": [
    "l1=[2,3,5,1]\n",
    "sum=0\n",
    "for i in l1:\n",
    "    sum+=i\n",
    "print(sum)"
   ]
  },
  {
   "cell_type": "markdown",
   "metadata": {},
   "source": [
    "### 02) WAP to find largest element in a List."
   ]
  },
  {
   "cell_type": "code",
   "execution_count": 9,
   "metadata": {},
   "outputs": [
    {
     "name": "stdout",
     "output_type": "stream",
     "text": [
      "99\n"
     ]
    }
   ],
   "source": [
    "l2=[5,99,6,2]\n",
    "m=l2[0]\n",
    "for i in l2:\n",
    "    if(i>m):\n",
    "        m=i\n",
    "print(m)"
   ]
  },
  {
   "cell_type": "markdown",
   "metadata": {},
   "source": [
    "### 03) WAP to find the length of a List."
   ]
  },
  {
   "cell_type": "code",
   "execution_count": 11,
   "metadata": {},
   "outputs": [
    {
     "name": "stdout",
     "output_type": "stream",
     "text": [
      "10\n"
     ]
    }
   ],
   "source": [
    "l3=[1,2,3,4,5,6,7,8,9,10]\n",
    "count=0\n",
    "for i in l3:\n",
    "    count+=1\n",
    "print(count)"
   ]
  },
  {
   "cell_type": "markdown",
   "metadata": {},
   "source": [
    "### 04) WAP to interchange first and last elements in a list."
   ]
  },
  {
   "cell_type": "code",
   "execution_count": 17,
   "metadata": {},
   "outputs": [
    {
     "name": "stdout",
     "output_type": "stream",
     "text": [
      "Before :  [1, 2, 3, 4, 5]\n",
      "After  :  [5, 2, 3, 4, 1]\n"
     ]
    }
   ],
   "source": [
    "l4=[1,2,3,4,5]\n",
    "print(\"Before : \", l4)\n",
    "temp=l4[0]\n",
    "l4[0]=l4[-1]\n",
    "l4[-1]=temp\n",
    "print(\"After  : \", l4)"
   ]
  },
  {
   "cell_type": "markdown",
   "metadata": {},
   "source": [
    "### 05) WAP to split the List into two parts and append the first part to the end."
   ]
  },
  {
   "cell_type": "code",
   "execution_count": 27,
   "metadata": {},
   "outputs": [
    {
     "name": "stdout",
     "output_type": "stream",
     "text": [
      "[4, 5, 6, 7, 1, 2, 3]\n"
     ]
    }
   ],
   "source": [
    "l5=[1,2,3,4,5,6,7]\n",
    "l=l5[:int(len(l5)/2)]\n",
    "L=l5[int(len(l5)/2):]\n",
    "l5=[]\n",
    "l5=L+l\n",
    "print(l5)\n"
   ]
  },
  {
   "cell_type": "markdown",
   "metadata": {},
   "source": [
    "### 06) WAP to interchange the elements on two positions entered by a user."
   ]
  },
  {
   "cell_type": "code",
   "execution_count": 29,
   "metadata": {},
   "outputs": [
    {
     "name": "stdin",
     "output_type": "stream",
     "text": [
      "Enter First Posotion :  2\n",
      "Enter Second Posotion :  7\n"
     ]
    },
    {
     "name": "stdout",
     "output_type": "stream",
     "text": [
      "After  :  [1, 2, 8, 4, 5, 6, 7, 3, 9]\n"
     ]
    }
   ],
   "source": [
    "p1=int(input('Enter First Posotion : '))\n",
    "p2=int(input('Enter Second Posotion : '))\n",
    "l6=[1,2,3,4,5,6,7,8,9]\n",
    "temp=l6[p1]\n",
    "l6[p1]=l6[p2]\n",
    "l6[p2]=temp\n",
    "print(\"After  : \", l6)\n"
   ]
  },
  {
   "cell_type": "markdown",
   "metadata": {},
   "source": [
    "### 07) WAP to reverse the list entered by user."
   ]
  },
  {
   "cell_type": "code",
   "execution_count": 39,
   "metadata": {},
   "outputs": [
    {
     "name": "stdin",
     "output_type": "stream",
     "text": [
      "Enter 1 for Input :  1\n",
      "Enter number :  23\n",
      "Enter 1 for Input :  1\n",
      "Enter number :  235\n",
      "Enter 1 for Input :  1\n",
      "Enter number :  20\n",
      "Enter 1 for Input :  0\n"
     ]
    },
    {
     "name": "stdout",
     "output_type": "stream",
     "text": [
      "Before :  [23, 235, 20]\n",
      "After :  [20, 235, 23]\n"
     ]
    }
   ],
   "source": [
    "e=int(input('Enter 1 for Input : '))\n",
    "l7=[]\n",
    "while(True):\n",
    "    if(e==1):\n",
    "        i=int(input('Enter number : '))\n",
    "        l7.append(i)\n",
    "    else:\n",
    "        break\n",
    "    e=int(input('Enter 1 for Input : '))\n",
    "print(\"Before : \", l7)\n",
    "l7.reverse()\n",
    "print(\"After : \", l7)\n",
    "\n"
   ]
  },
  {
   "cell_type": "markdown",
   "metadata": {},
   "source": [
    "### 08) WAP to print even numbers in a list."
   ]
  },
  {
   "cell_type": "code",
   "execution_count": 45,
   "metadata": {},
   "outputs": [
    {
     "name": "stdout",
     "output_type": "stream",
     "text": [
      "2 4 6 8 "
     ]
    }
   ],
   "source": [
    "l8=[1,2,3,4,5,6,7,8,9]\n",
    "for i in l8:\n",
    "    if(i%2==0):\n",
    "        print(i, end=\" \")"
   ]
  },
  {
   "cell_type": "markdown",
   "metadata": {},
   "source": [
    "### 09) WAP to count unique items in a list."
   ]
  },
  {
   "cell_type": "code",
   "execution_count": 51,
   "metadata": {},
   "outputs": [
    {
     "name": "stdout",
     "output_type": "stream",
     "text": [
      "9\n"
     ]
    }
   ],
   "source": [
    "l9=[1,2,3,4,5,6,7,8,9,1,2,5,9]\n",
    "l=[]\n",
    "for i in l9:\n",
    "    if(i in l):\n",
    "        continue\n",
    "    else:\n",
    "        l.append(i)\n",
    "print(len(l))\n"
   ]
  },
  {
   "cell_type": "markdown",
   "metadata": {},
   "source": [
    "### 10) WAP to copy a list."
   ]
  },
  {
   "cell_type": "code",
   "execution_count": 53,
   "metadata": {},
   "outputs": [
    {
     "name": "stdout",
     "output_type": "stream",
     "text": [
      "[1, 2, 3]\n"
     ]
    }
   ],
   "source": [
    "l10=[1,2,3]\n",
    "LC=[]\n",
    "for i in l10:\n",
    "    LC.append(i)\n",
    "print(LC)"
   ]
  },
  {
   "cell_type": "markdown",
   "metadata": {},
   "source": [
    "### 11) WAP to print all odd numbers in a given range."
   ]
  },
  {
   "cell_type": "code",
   "execution_count": 59,
   "metadata": {},
   "outputs": [
    {
     "name": "stdin",
     "output_type": "stream",
     "text": [
      "Enter First Number :  1\n",
      "Enter Second Number :  9\n"
     ]
    },
    {
     "name": "stdout",
     "output_type": "stream",
     "text": [
      "1 3 5 7 9 "
     ]
    }
   ],
   "source": [
    "n1=int(input('Enter First Number : '))\n",
    "n2=int(input('Enter Second Number : '))\n",
    "for i in range(n1,n2+1):\n",
    "    if(i%2!=0):\n",
    "        print(i, end=\" \" )\n"
   ]
  },
  {
   "cell_type": "markdown",
   "metadata": {},
   "source": [
    "### 12) WAP to count occurrences of an element in a list."
   ]
  },
  {
   "cell_type": "code",
   "execution_count": 63,
   "metadata": {},
   "outputs": [
    {
     "name": "stdin",
     "output_type": "stream",
     "text": [
      "Enter Number :  1\n"
     ]
    },
    {
     "name": "stdout",
     "output_type": "stream",
     "text": [
      "4\n"
     ]
    }
   ],
   "source": [
    "l12=[1,2,3,4,5,6,7,8,9,1,2,1,2,1,6]\n",
    "count=0\n",
    "num=int(input('Enter Number : '))\n",
    "for i in l12:\n",
    "    if(i==num):\n",
    "        count+=1\n",
    "print(count)\n"
   ]
  },
  {
   "cell_type": "markdown",
   "metadata": {},
   "source": [
    "### 13) WAP to find second largest number in a list."
   ]
  },
  {
   "cell_type": "code",
   "execution_count": 75,
   "metadata": {},
   "outputs": [
    {
     "name": "stdout",
     "output_type": "stream",
     "text": [
      "8\n"
     ]
    }
   ],
   "source": [
    "list13=[1,2,3,4,5,6,7,8,9,1,2,1,2,1,6]\n",
    "m=max(list13)\n",
    "high=list13[0]\n",
    "for i in list13:\n",
    "    if(i>high and i<m):\n",
    "        high=i\n",
    "print(high)\n"
   ]
  },
  {
   "cell_type": "markdown",
   "metadata": {},
   "source": [
    "### 14) WAP to extract elements with frequency greater than K."
   ]
  },
  {
   "cell_type": "code",
   "execution_count": 108,
   "metadata": {},
   "outputs": [
    {
     "name": "stdin",
     "output_type": "stream",
     "text": [
      "Enter frequency :  2\n"
     ]
    },
    {
     "name": "stdout",
     "output_type": "stream",
     "text": [
      "[1, 2]\n"
     ]
    }
   ],
   "source": [
    "list14=[1,2,3,4,5,6,7,8,9,1,2,1,2,1,6]\n",
    "n=int(input('Enter frequency : '))\n",
    "l=[]\n",
    "for i in list14:\n",
    "    if(list14.count(i)>n and i not in l):\n",
    "        l.append(i)\n",
    "print(l)\n",
    "        "
   ]
  },
  {
   "cell_type": "markdown",
   "metadata": {},
   "source": [
    "### 15) WAP to create a list of squared numbers from 0 to 9 with and without using List Comprehension."
   ]
  },
  {
   "cell_type": "code",
   "execution_count": 88,
   "metadata": {},
   "outputs": [
    {
     "name": "stdout",
     "output_type": "stream",
     "text": [
      "[1, 4, 9, 16, 25, 36, 49, 64, 81]\n",
      "[1, 4, 9, 16, 25, 36, 49, 64, 81]\n"
     ]
    }
   ],
   "source": [
    "#with Comprehension\n",
    "list15=[i**2 for i in range(1,10)]\n",
    "print(list15)\n",
    "\n",
    "#without Comprehension\n",
    "l=[]\n",
    "for i in range(1,10):\n",
    "    l.append(i**2)\n",
    "print(l)"
   ]
  },
  {
   "cell_type": "markdown",
   "metadata": {},
   "source": [
    "### 16) WAP to create a new list (fruit whose name starts with 'b') from the list of fruits given by user."
   ]
  },
  {
   "cell_type": "code",
   "execution_count": 104,
   "metadata": {},
   "outputs": [
    {
     "name": "stdin",
     "output_type": "stream",
     "text": [
      "Enter 1 for Input :  1\n",
      "Enter Name :  apple\n",
      "Enter 1 for Input :  1\n",
      "Enter Name :  banana\n",
      "Enter 1 for Input :  1\n",
      "Enter Name :  berry\n",
      "Enter 1 for Input :  1\n",
      "Enter Name :  ct\n",
      "Enter 1 for Input :  0\n"
     ]
    },
    {
     "name": "stdout",
     "output_type": "stream",
     "text": [
      "['banana', 'berry']\n"
     ]
    }
   ],
   "source": [
    "e=int(input('Enter 1 for Input : '))\n",
    "l16=[]\n",
    "while(True):\n",
    "    if(e==1):\n",
    "        i=input('Enter Name : ')\n",
    "        l16.append(i)\n",
    "    else:\n",
    "        break\n",
    "    e=int(input('Enter 1 for Input : '))\n",
    "le=[]\n",
    "for i in l16:\n",
    "    if(i[0] in \"bB\"):\n",
    "        le.append(i)\n",
    "print(le)"
   ]
  },
  {
   "cell_type": "markdown",
   "metadata": {},
   "source": [
    "### 17) WAP to create a list of common elements from given two lists."
   ]
  },
  {
   "cell_type": "code",
   "execution_count": 106,
   "metadata": {},
   "outputs": [
    {
     "name": "stdout",
     "output_type": "stream",
     "text": [
      "[0, 2, 6, 8]\n"
     ]
    }
   ],
   "source": [
    "LI=[0,1,2,3,4,5,6,7,8,9]\n",
    "LI2=[0,23,6,8,52,14,2]\n",
    "l17=[]\n",
    "for i in LI:\n",
    "    if(i in LI2):\n",
    "        l17.append(i)\n",
    "print(l17)"
   ]
  },
  {
   "cell_type": "code",
   "execution_count": null,
   "metadata": {},
   "outputs": [],
   "source": []
  }
 ],
 "metadata": {
  "kernelspec": {
   "display_name": "Python 3 (ipykernel)",
   "language": "python",
   "name": "python3"
  },
  "language_info": {
   "codemirror_mode": {
    "name": "ipython",
    "version": 3
   },
   "file_extension": ".py",
   "mimetype": "text/x-python",
   "name": "python",
   "nbconvert_exporter": "python",
   "pygments_lexer": "ipython3",
   "version": "3.12.7"
  }
 },
 "nbformat": 4,
 "nbformat_minor": 4
}
