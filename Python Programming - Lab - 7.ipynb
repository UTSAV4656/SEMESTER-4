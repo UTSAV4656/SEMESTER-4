{
 "cells": [
  {
   "cell_type": "markdown",
   "metadata": {},
   "source": [
    "<a href='https://www.darshan.ac.in/'> <img src='https://www.darshan.ac.in/Content/media/DU_Logo.svg' width=\"250\" height=\"300\"/></a>\n",
    "<pre>\n",
    "<center><b><h1>Python Programming - 2301CS404</b></center>\n",
    "<center><b><h1>Lab - 7</b></center>    \n",
    "<pre>"
   ]
  },
  {
   "cell_type": "markdown",
   "metadata": {},
   "source": [
    "# Set & Dictionary"
   ]
  },
  {
   "cell_type": "markdown",
   "metadata": {},
   "source": [
    "### 01) WAP to iterate over a set."
   ]
  },
  {
   "cell_type": "code",
   "execution_count": 2,
   "metadata": {},
   "outputs": [
    {
     "name": "stdout",
     "output_type": "stream",
     "text": [
      "1\n",
      "2\n",
      "3\n",
      "4\n",
      "5\n",
      "6\n",
      "7\n",
      "8\n",
      "9\n",
      "10\n"
     ]
    }
   ],
   "source": [
    "s1 = {1,2,3,4,5,6,7,8,9,10}\n",
    "for i  in s1:\n",
    "    print(i)"
   ]
  },
  {
   "cell_type": "markdown",
   "metadata": {},
   "source": [
    "### 02) WAP to convert set into list, string and tuple."
   ]
  },
  {
   "cell_type": "code",
   "execution_count": 18,
   "metadata": {
    "scrolled": true
   },
   "outputs": [
    {
     "name": "stdout",
     "output_type": "stream",
     "text": [
      "['l', 'H', 'e', 'o']\n",
      "<class 'list'>\n",
      "lHeo\n",
      "<class 'str'>\n",
      "('l', 'H', 'e', 'o')\n",
      "<class 'tuple'>\n"
     ]
    }
   ],
   "source": [
    "s2 = {'H','e','l','l','o'}\n",
    "li = list(s2)\n",
    "print(li)\n",
    "print(type(li))\n",
    "s = ''\n",
    "for i in s2:\n",
    "    s += str(i)\n",
    "print(s)\n",
    "print(type(s))\n",
    "t = tuple(s2)\n",
    "print(t)\n",
    "print(type(t))"
   ]
  },
  {
   "cell_type": "markdown",
   "metadata": {},
   "source": [
    "### 03) WAP to find Maximum and Minimum from a set."
   ]
  },
  {
   "cell_type": "code",
   "execution_count": 19,
   "metadata": {},
   "outputs": [
    {
     "name": "stdout",
     "output_type": "stream",
     "text": [
      "Maximum :  10\n",
      "Minimum :  1\n"
     ]
    }
   ],
   "source": [
    "s3 = {1,2,3,4,5,6,7,8,9,10}\n",
    "li = list(s3)\n",
    "\n",
    "mx = max(li)\n",
    "mn = min(li)\n",
    "\n",
    "print(\"Maximum : \",mx)\n",
    "print(\"Minimum : \",mn)"
   ]
  },
  {
   "cell_type": "markdown",
   "metadata": {},
   "source": [
    "### 04) WAP to perform union of two sets."
   ]
  },
  {
   "cell_type": "code",
   "execution_count": 20,
   "metadata": {},
   "outputs": [
    {
     "name": "stdout",
     "output_type": "stream",
     "text": [
      "{'cherry', 'microsoft', 'google', 'apple', 'banana'}\n"
     ]
    }
   ],
   "source": [
    "x = {\"apple\", \"banana\", \"cherry\"}\n",
    "y = {\"google\", \"microsoft\", \"apple\"}\n",
    "\n",
    "z = x | y\n",
    "\n",
    "print(z)"
   ]
  },
  {
   "cell_type": "markdown",
   "metadata": {},
   "source": [
    "### 05) WAP to check if two lists have at-least one element common."
   ]
  },
  {
   "cell_type": "code",
   "execution_count": 21,
   "metadata": {},
   "outputs": [
    {
     "name": "stdout",
     "output_type": "stream",
     "text": [
      "The lists have at least one common element.\n"
     ]
    }
   ],
   "source": [
    "list1 = [1, 2, 3, 4]\n",
    "list2 = [4, 5, 6]\n",
    "\n",
    "if (bool(set(list1) & set(list2))):\n",
    "    print(\"The lists have at least one common element.\")\n",
    "else:\n",
    "    print(\"The lists do not have any common elements.\")\n"
   ]
  },
  {
   "cell_type": "markdown",
   "metadata": {},
   "source": [
    "### 06) WAP to remove duplicates from list."
   ]
  },
  {
   "cell_type": "code",
   "execution_count": 25,
   "metadata": {},
   "outputs": [
    {
     "name": "stdout",
     "output_type": "stream",
     "text": [
      "[1, 2, 3, 4]\n"
     ]
    }
   ],
   "source": [
    "li = [1, 2, 3, 4, 3, 2, 1]\n",
    "li = list(set(li))\n",
    "print(li)"
   ]
  },
  {
   "cell_type": "markdown",
   "metadata": {},
   "source": [
    "### 07) WAP to find unique words in the given string."
   ]
  },
  {
   "cell_type": "code",
   "execution_count": 33,
   "metadata": {},
   "outputs": [
    {
     "name": "stdout",
     "output_type": "stream",
     "text": [
      "Unique words in the given string: {'this', 'is', 'test', 'string', 'string.', 'a'}\n"
     ]
    }
   ],
   "source": [
    "string = \"This is a test string This is a test string This is a test string This is a test string.\"\n",
    "string = string.lower()\n",
    "w = string.split()\n",
    "uw = set(w)\n",
    "print(\"Unique words in the given string:\", uw)"
   ]
  },
  {
   "cell_type": "markdown",
   "metadata": {},
   "source": [
    "### 08) WAP to remove common elements of set A & B from set A."
   ]
  },
  {
   "cell_type": "code",
   "execution_count": 34,
   "metadata": {},
   "outputs": [
    {
     "name": "stdout",
     "output_type": "stream",
     "text": [
      "Updated set A after removing common elements: {1, 2, 5}\n"
     ]
    }
   ],
   "source": [
    "A = {1, 2, 3, 4, 5}\n",
    "B = {3, 4, 6, 7}\n",
    "A -= A & B \n",
    "\n",
    "print(\"Updated set A after removing common elements:\", A)"
   ]
  },
  {
   "cell_type": "markdown",
   "metadata": {},
   "source": [
    "### 09) WAP to check whether two given strings are anagram or not using Dictionary."
   ]
  },
  {
   "cell_type": "code",
   "execution_count": 35,
   "metadata": {},
   "outputs": [
    {
     "name": "stdout",
     "output_type": "stream",
     "text": [
      "Enter a string: madam\n",
      "enter a sreing: daamm\n",
      "anagram\n"
     ]
    }
   ],
   "source": [
    "st1 = input(\"Enter a string: \")\n",
    "st2 = input(\"enter a sreing: \")\n",
    "dic1 = {}\n",
    "dic2 = {}\n",
    "\n",
    "for ch in st1:\n",
    "    if ch in dic1:\n",
    "        dic1[ch] += 1\n",
    "    else:\n",
    "        dic1[ch] = 1 \n",
    "        \n",
    "for ch in st2:\n",
    "    if ch in dic2:\n",
    "        dic2[ch] += 1\n",
    "    else:\n",
    "        dic2[ch] = 1\n",
    "if(dic1==dic2):\n",
    "    print(\"anagram\")\n",
    "else:\n",
    "    print(\"not\")"
   ]
  },
  {
   "cell_type": "markdown",
   "metadata": {},
   "source": [
    "### 10) WAP to find common elements in three lists using set."
   ]
  },
  {
   "cell_type": "code",
   "execution_count": 36,
   "metadata": {},
   "outputs": [
    {
     "name": "stdout",
     "output_type": "stream",
     "text": [
      "Common elements: {3, 4, 5}\n"
     ]
    }
   ],
   "source": [
    "list1 = [1, 2, 3, 4, 5]\n",
    "list2 = [3, 4, 5, 6, 7]\n",
    "list3 = [5, 8, 9, 3, 4]\n",
    "set1 = set(list1)\n",
    "set2 = set(list2)\n",
    "set3 = set(list3)\n",
    "common = set1.intersection(set2, set3)\n",
    "    \n",
    "print(\"Common elements:\", common)\n"
   ]
  },
  {
   "cell_type": "markdown",
   "metadata": {},
   "source": [
    "### 11) WAP to count number of vowels in given string using set."
   ]
  },
  {
   "cell_type": "code",
   "execution_count": 37,
   "metadata": {},
   "outputs": [
    {
     "name": "stdout",
     "output_type": "stream",
     "text": [
      "Number of vowels: 3\n"
     ]
    }
   ],
   "source": [
    "s = \"Hello World\"\n",
    "vowels = set(\"aeiouAEIOU\")\n",
    "count = 0\n",
    "for char in s:\n",
    "    if char in vowels:\n",
    "        count += 1\n",
    "\n",
    "print(\"Number of vowels:\", count)"
   ]
  },
  {
   "cell_type": "markdown",
   "metadata": {},
   "source": [
    "### 12) WAP to check if a given string is binary string or not."
   ]
  },
  {
   "cell_type": "code",
   "execution_count": 44,
   "metadata": {},
   "outputs": [
    {
     "name": "stdout",
     "output_type": "stream",
     "text": [
      "Enter a string: 52454\n",
      "The string is not a binary string.\n"
     ]
    }
   ],
   "source": [
    "s = input(\"Enter a string: \")\n",
    "for char in s:\n",
    "        if char not in '01':\n",
    "            ans = False\n",
    "        else:\n",
    "            ans = True\n",
    "if (ans):\n",
    "    print(\"The string is a binary string.\")\n",
    "else:\n",
    "    print(\"The string is not a binary string.\")"
   ]
  },
  {
   "cell_type": "markdown",
   "metadata": {},
   "source": [
    "### 13) WAP to sort dictionary by key or value."
   ]
  },
  {
   "cell_type": "code",
   "execution_count": 45,
   "metadata": {},
   "outputs": [
    {
     "name": "stdout",
     "output_type": "stream",
     "text": [
      "sorted by keys : {1: 'h', 2: 'e', 3: 'l', 4: 'l', 5: 'o'}\n",
      "sorted by values : {2: 'e', 1: 'h', 3: 'l', 4: 'l', 5: 'o'}\n"
     ]
    }
   ],
   "source": [
    "dict1 = { 5 : 'o' ,  3 : 'l' ,2 : 'e', 4 : 'l', 1 : 'h'  }\n",
    "\n",
    "s1 = dict(sorted(dict1.items()))\n",
    "print(f\"sorted by keys : {s1}\")\n",
    "\n",
    "s2 =  dict(sorted(dict1.items(),key = lambda item : item[1]))\n",
    "print(f\"sorted by values : {s2}\")"
   ]
  },
  {
   "cell_type": "markdown",
   "metadata": {},
   "source": [
    "### 14) WAP to find the sum of all items (values) in a dictionary given by user. (Assume: values are numeric)"
   ]
  },
  {
   "cell_type": "code",
   "execution_count": 46,
   "metadata": {},
   "outputs": [
    {
     "name": "stdout",
     "output_type": "stream",
     "text": [
      "6\n"
     ]
    }
   ],
   "source": [
    "d={'a':1,'b':2,'c':3}\n",
    "sum=0\n",
    "for i in d.values():\n",
    "    sum+=i\n",
    "print(sum)"
   ]
  },
  {
   "cell_type": "markdown",
   "metadata": {},
   "source": [
    "### 15) WAP to handle missing keys in dictionaries.\n",
    "#### Example : Given, dict1 = {'a': 5, 'c': 8, 'e': 2} \n",
    "#### if you look for key = 'd', the message given should be 'Key Not Found', otherwise print the value of 'd' in dict1."
   ]
  },
  {
   "cell_type": "code",
   "execution_count": 48,
   "metadata": {},
   "outputs": [
    {
     "name": "stdout",
     "output_type": "stream",
     "text": [
      "Enter Key : d\n",
      "Key not found\n"
     ]
    }
   ],
   "source": [
    "dict1={'a':5,'c':8,'e':2}\n",
    "k=input(\"Enter Key : \")\n",
    "if(k not in dict1.keys()):\n",
    "    print(\"Key not found\")\n",
    "else:\n",
    "    print(dict1[k])"
   ]
  }
 ],
 "metadata": {
  "kernelspec": {
   "display_name": "Python 3 (ipykernel)",
   "language": "python",
   "name": "python3"
  },
  "language_info": {
   "codemirror_mode": {
    "name": "ipython",
    "version": 3
   },
   "file_extension": ".py",
   "mimetype": "text/x-python",
   "name": "python",
   "nbconvert_exporter": "python",
   "pygments_lexer": "ipython3",
   "version": "3.10.9"
  }
 },
 "nbformat": 4,
 "nbformat_minor": 4
}
