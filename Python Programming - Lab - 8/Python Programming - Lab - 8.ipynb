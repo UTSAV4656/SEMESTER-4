{
 "cells": [
  {
   "cell_type": "markdown",
   "metadata": {},
   "source": [
    "<a href='https://www.darshan.ac.in/'> <img src='https://www.darshan.ac.in/Content/media/DU_Logo.svg' width=\"250\" height=\"300\"/></a>\n",
    "<pre>\n",
    "<center><b><h1>Python Programming - 2301CS404</b></center>\n",
    "<center><b><h1>Lab - 8</b></center>    \n",
    "<pre>"
   ]
  },
  {
   "cell_type": "markdown",
   "metadata": {},
   "source": [
    "# User Defined Function"
   ]
  },
  {
   "cell_type": "markdown",
   "metadata": {},
   "source": [
    "### 01) Write a function to calculate BMI given mass and height. (BMI = mass/h**2)"
   ]
  },
  {
   "cell_type": "code",
   "execution_count": 4,
   "metadata": {},
   "outputs": [
    {
     "name": "stdin",
     "output_type": "stream",
     "text": [
      "Please enter mass :  10\n",
      "Please enter height :  2.5\n"
     ]
    },
    {
     "name": "stdout",
     "output_type": "stream",
     "text": [
      "BMI: 1.60\n"
     ]
    }
   ],
   "source": [
    "def calculate_bmi(mass, height):\n",
    "    if height <= 0:\n",
    "        raise ValueError(\"Height must be greater than zero.\")\n",
    "    if mass < 0:\n",
    "        raise ValueError(\"Mass cannot be negative.\")\n",
    "    \n",
    "    bmi = mass / (height ** 2)\n",
    "    return bmi\n",
    "\n",
    "mass = int(input(\"Please enter mass : \"))\n",
    "height = float(input(\"Please enter height : \"))\n",
    "bmi = calculate_bmi(mass, height)\n",
    "print(f\"BMI: {bmi:.2f}\")"
   ]
  },
  {
   "cell_type": "markdown",
   "metadata": {},
   "source": [
    "### 02) Write a function that add first n numbers."
   ]
  },
  {
   "cell_type": "code",
   "execution_count": 6,
   "metadata": {},
   "outputs": [
    {
     "name": "stdout",
     "output_type": "stream",
     "text": [
      "Sum of the first 10 numbers: 55\n"
     ]
    }
   ],
   "source": [
    "def sum_of_first_n_numbers(n):\n",
    "    if n < 0:\n",
    "        raise ValueError(\"n must be a non-negative integer.\")\n",
    "    return n * (n + 1) // 2\n",
    "n = 10\n",
    "result = sum_of_first_n_numbers(n)\n",
    "print(f\"Sum of the first {n} numbers: {result}\")\n"
   ]
  },
  {
   "cell_type": "markdown",
   "metadata": {},
   "source": [
    "### 03) Write a function that returns 1 if the given number is Prime or 0 otherwise."
   ]
  },
  {
   "cell_type": "code",
   "execution_count": 8,
   "metadata": {},
   "outputs": [
    {
     "name": "stdout",
     "output_type": "stream",
     "text": [
      "Is 17 a prime number? Yes\n"
     ]
    }
   ],
   "source": [
    "def is_prime(number):\n",
    "    if number <= 1:\n",
    "        return 0\n",
    "    for i in range(2, int(number ** 0.5) + 1):\n",
    "        if number % i == 0:\n",
    "            return 0\n",
    "    return 1\n",
    "num = 17\n",
    "result = is_prime(num)\n",
    "print(f\"Is {num} a prime number? {'Yes' if result == 1 else 'No'}\")"
   ]
  },
  {
   "cell_type": "markdown",
   "metadata": {},
   "source": [
    "### 04) Write a function that returns the list of Prime numbers between given two numbers."
   ]
  },
  {
   "cell_type": "code",
   "execution_count": 18,
   "metadata": {},
   "outputs": [
    {
     "name": "stdout",
     "output_type": "stream",
     "text": [
      "Prime no between 1 to 20 : [2, 3, 5, 7, 11, 13, 17, 19]\n"
     ]
    }
   ],
   "source": [
    "def is_prime(number):\n",
    "    if number <= 1:\n",
    "        return 0\n",
    "    for i in range(2, int(number ** 0.5) + 1):\n",
    "        if number % i == 0:\n",
    "            return 0\n",
    "    return 1\n",
    "num1 = 1\n",
    "num2 = 20\n",
    "li = list()\n",
    "for i in range(num1,num2):\n",
    "    result = is_prime(i)\n",
    "    if(result == 1):\n",
    "        li.append(i)\n",
    "print(f\"Prime no between {num1} to {num2} : {li}\")"
   ]
  },
  {
   "cell_type": "markdown",
   "metadata": {},
   "source": [
    "### 05) Write a function that returns True if the given string is Palindrome or False otherwise."
   ]
  },
  {
   "cell_type": "code",
   "execution_count": 14,
   "metadata": {},
   "outputs": [
    {
     "name": "stdout",
     "output_type": "stream",
     "text": [
      "Is the string 'madam' a palindrome? True\n"
     ]
    }
   ],
   "source": [
    "def is_palindrome(s):\n",
    "    cleaned = ''.join(char.lower() for char in s )\n",
    "    return cleaned == cleaned[::-1]\n",
    "\n",
    "string = \"madam\"\n",
    "result = is_palindrome(string)\n",
    "print(f\"Is the string '{string}' a palindrome? {result}\")"
   ]
  },
  {
   "cell_type": "markdown",
   "metadata": {},
   "source": [
    "### 06) Write a function that returns the sum of all the elements of the list."
   ]
  },
  {
   "cell_type": "code",
   "execution_count": 26,
   "metadata": {},
   "outputs": [
    {
     "name": "stdout",
     "output_type": "stream",
     "text": [
      "Sum of list : 150\n"
     ]
    }
   ],
   "source": [
    "li = [10,20,30,40,50]\n",
    "def sumof_list(li):\n",
    "    sum = 0\n",
    "    for i in li:\n",
    "        sum += i\n",
    "    return sum\n",
    "sum = sumof_list(li)\n",
    "print(f\"Sum of list : {sum}\")"
   ]
  },
  {
   "cell_type": "markdown",
   "metadata": {},
   "source": [
    "### 07) Write a function to calculate the sum of the first element of each tuples inside the list."
   ]
  },
  {
   "cell_type": "code",
   "execution_count": 35,
   "metadata": {},
   "outputs": [
    {
     "name": "stdout",
     "output_type": "stream",
     "text": [
      "The sum of the first elements is: 9\n"
     ]
    }
   ],
   "source": [
    "def sum_first_elements(tuples_list):\n",
    "    return sum(t[0] for t in tuples_list)\n",
    "tuples = [(1, 2), (3, 4), (5, 6)]\n",
    "result = sum_first_elements(tuples)\n",
    "print(f\"The sum of the first elements is: {result}\")"
   ]
  },
  {
   "cell_type": "markdown",
   "metadata": {},
   "source": [
    "### 08) Write a recursive function to find nth term of Fibonacci Series."
   ]
  },
  {
   "cell_type": "code",
   "execution_count": 28,
   "metadata": {},
   "outputs": [
    {
     "name": "stdout",
     "output_type": "stream",
     "text": [
      "34\n"
     ]
    }
   ],
   "source": [
    "def Fibonacci(n):\n",
    "    if n <= 0:\n",
    "        print(\"Incorrect\")\n",
    "    elif n == 1:\n",
    "        return 0\n",
    "    elif n == 2:\n",
    "        return 1\n",
    "    else :\n",
    "        return Fibonacci(n-1)+Fibonacci(n-2)\n",
    "\n",
    "print(Fibonacci(10))"
   ]
  },
  {
   "cell_type": "markdown",
   "metadata": {},
   "source": [
    "### 09) Write a function to get the name of the student based on the given rollno.\n",
    "#### Example: Given dict1 = {101:'Ajay', 102:'Rahul', 103:'Jay', 104:'Pooja'} find name of student whose rollno = 103"
   ]
  },
  {
   "cell_type": "code",
   "execution_count": 39,
   "metadata": {},
   "outputs": [
    {
     "name": "stdout",
     "output_type": "stream",
     "text": [
      "The name of the student with roll number 103 is Jay.\n"
     ]
    }
   ],
   "source": [
    "def get_student_name(rollno, student_dict):\n",
    "    return student_dict.get(rollno, \"Student not found\")\n",
    "\n",
    "dict1 = {101: 'Ajay', 102: 'Rahul', 103: 'Jay', 104: 'Pooja'}\n",
    "rollno = 103\n",
    "\n",
    "student_name = get_student_name(rollno, dict1)\n",
    "print(f\"The name of the student with roll number {rollno} is {student_name}.\")"
   ]
  },
  {
   "cell_type": "markdown",
   "metadata": {},
   "source": [
    "### 10) Write a function to get the sum of the scores ending with zero.\n",
    "#### Example : scores = [200, 456, 300, 100, 234, 678] \n",
    "#### Ans = 200 + 300 + 100 = 600"
   ]
  },
  {
   "cell_type": "code",
   "execution_count": 41,
   "metadata": {},
   "outputs": [
    {
     "name": "stdout",
     "output_type": "stream",
     "text": [
      "600\n"
     ]
    }
   ],
   "source": [
    "scores = [200, 456, 300, 100, 234, 678]\n",
    "\n",
    "def fn10(scores):\n",
    "    sum1 = 0\n",
    "    for i in scores:\n",
    "        if(i%10 == 0):\n",
    "            sum1 += i\n",
    "    return sum1\n",
    "\n",
    "print(fn10(scores))"
   ]
  },
  {
   "cell_type": "markdown",
   "metadata": {},
   "source": [
    "### 11) Write a function to invert a given Dictionary.\n",
    "#### hint: keys to values & values to keys\n",
    "#### Before : {'a': 10, 'b':20, 'c':30, 'd':40}\n",
    "#### After : {10:'a', 20:'b', 30:'c', 40:'d'}"
   ]
  },
  {
   "cell_type": "code",
   "execution_count": 44,
   "metadata": {},
   "outputs": [
    {
     "name": "stdout",
     "output_type": "stream",
     "text": [
      "Original Dictionary: {'a': 10, 'b': 20, 'c': 30, 'd': 40}\n",
      "Inverted Dictionary: {10: 'a', 20: 'b', 30: 'c', 40: 'd'}\n"
     ]
    }
   ],
   "source": [
    "def invert_dictionary(original_dict):\n",
    "    return {value: key for key, value in original_dict.items()}\n",
    "\n",
    "original_dict = {'a': 10, 'b': 20, 'c': 30, 'd': 40}\n",
    "inverted_dict = invert_dictionary(original_dict)\n",
    "print(\"Original Dictionary:\", original_dict)\n",
    "print(\"Inverted Dictionary:\", inverted_dict)"
   ]
  },
  {
   "cell_type": "markdown",
   "metadata": {},
   "source": [
    "### 12) Write a function to check whether the given string is Pangram or not.\n",
    "#### hint: Pangram is a string containing all the characters a-z atlest once.\n",
    "#### \"the quick brown fox jumps over the lazy dog\" is a Pangram string."
   ]
  },
  {
   "cell_type": "code",
   "execution_count": 62,
   "metadata": {},
   "outputs": [
    {
     "name": "stdout",
     "output_type": "stream",
     "text": [
      "\"The quick brown fox jumps over the lazy dog\" is a pangram.\n"
     ]
    }
   ],
   "source": [
    "def is_pangram(input_string):\n",
    "    alphabet = set('abcdefghijklmnopqrstuvwxyz')\n",
    "    input_characters = set(input_string.lower())\n",
    "    return alphabet.issubset(input_characters)\n",
    "\n",
    "test_string = \"The quick brown fox jumps over the lazy dog\"\n",
    "if is_pangram(test_string):\n",
    "    print(f'\"{test_string}\" is a pangram.')\n",
    "else:\n",
    "    print(f'\"{test_string}\" is NOT a pangram.')"
   ]
  },
  {
   "cell_type": "markdown",
   "metadata": {},
   "source": [
    "### 13) Write a function that returns the number of uppercase and lowercase letters in the given string. \n",
    "#### example : Input : s1 = AbcDEfgh ,Ouptput : no_upper = 3, no_lower = 5"
   ]
  },
  {
   "cell_type": "code",
   "execution_count": 56,
   "metadata": {},
   "outputs": [
    {
     "name": "stdout",
     "output_type": "stream",
     "text": [
      "no_upper=3,no_lower=5\n"
     ]
    }
   ],
   "source": [
    "def fn13(s):\n",
    "    dict1 = {\"upper\":0,\"lower\":0}\n",
    "    for i in s:\n",
    "        if(i.islower()):\n",
    "            dict1[\"lower\"]+=1\n",
    "        else:\n",
    "            dict1[\"upper\"]+=1\n",
    "    print(f\"no_upper={dict1[\"upper\"]},no_lower={dict1[\"lower\"]}\")\n",
    "\n",
    "s1 = \"AbcDEfgh\"\n",
    "fn13(s1)"
   ]
  },
  {
   "cell_type": "markdown",
   "metadata": {},
   "source": [
    "### 14) Write a lambda function to get smallest number from the given two numbers."
   ]
  },
  {
   "cell_type": "code",
   "execution_count": 53,
   "metadata": {},
   "outputs": [
    {
     "name": "stdout",
     "output_type": "stream",
     "text": [
      "20\n"
     ]
    }
   ],
   "source": [
    "ans = lambda x,y : x if x>y else y\n",
    "print(ans(10,20))"
   ]
  },
  {
   "cell_type": "markdown",
   "metadata": {},
   "source": [
    "### 15) For the given list of names of students, extract the names having more that 7 characters. Use filter()."
   ]
  },
  {
   "cell_type": "code",
   "execution_count": 50,
   "metadata": {},
   "outputs": [
    {
     "name": "stdout",
     "output_type": "stream",
     "text": [
      "['Superman', 'Homeleander']\n"
     ]
    }
   ],
   "source": [
    "l = [\"Utsav\",\"Aayush\",\"Renishs\",\"ironman\",\"Superman\",\"Homeleander\"]\n",
    "\n",
    "l2 = list(filter(lambda i : len(i)>7,l))\n",
    "\n",
    "print(l2)"
   ]
  },
  {
   "cell_type": "markdown",
   "metadata": {},
   "source": [
    "### 16) For the given list of names of students, convert the first letter of all the names into uppercase. use map()."
   ]
  },
  {
   "cell_type": "code",
   "execution_count": 58,
   "metadata": {},
   "outputs": [
    {
     "name": "stdout",
     "output_type": "stream",
     "text": [
      "['Utsav', 'Aayush', 'Renishs', 'Ironman', 'Superman', 'Homeleander']\n"
     ]
    }
   ],
   "source": [
    "l = [\"utsav\",\"Aayush\",\"renishs\",\"ironman\",\"superman\",\"Homeleander\"]\n",
    "\n",
    "l = list(map(lambda i : i.capitalize(),l))\n",
    "\n",
    "print(l)"
   ]
  },
  {
   "cell_type": "markdown",
   "metadata": {},
   "source": [
    "### 17) Write udfs to call the functions with following types of arguments:\n",
    "1. Positional Arguments\n",
    "2. Keyword Arguments\n",
    "3. Default Arguments\n",
    "4. Variable Legngth Positional(*args) & variable length Keyword Arguments (**kwargs)\n",
    "5. Keyword-Only & Positional Only Arguments"
   ]
  },
  {
   "cell_type": "code",
   "execution_count": 60,
   "metadata": {},
   "outputs": [
    {
     "name": "stdout",
     "output_type": "stream",
     "text": [
      "2 10 3\n"
     ]
    }
   ],
   "source": [
    "#position argument\n",
    "# def add(a,b):\n",
    "#     return a+b\n",
    "# print(add(10,20))\n",
    "\n",
    "\n",
    "#Keyword Argument\n",
    "# def add3(a,b,c):\n",
    "#     return a+b+c\n",
    "\n",
    "# print(add3(b=10,c=20,a=5))\n",
    "#print(add3(b=10,c=20,10))  aaa na chale\n",
    "\n",
    "\n",
    "\n",
    "#default argument\n",
    "# def add4(a,b,c,d=10):\n",
    "#     return a+b+c+d\n",
    "# print(add4(10,20,30,40))\n",
    "# print(add4(10,20,30))\n",
    "\n",
    "\n",
    "# *args\n",
    "# def add5(*args):\n",
    "#     sum1 = 0\n",
    "#     for i in args:\n",
    "#         sum1 += i\n",
    "#     return sum1\n",
    "# print(add5(1,2,3,4,5))\n",
    "\n",
    "\n",
    "# **kwargs\n",
    "# def addstu(**kwargs):\n",
    "#     for i in kwargs.items():\n",
    "#         print(i)\n",
    "\n",
    "# addstu(Utsav=384,Aayush=373,Yash=123,Monil=245)\n",
    "\n",
    "#only keyword\n",
    "def fn2(*,a,b,c):\n",
    "    print(a,b,c,sep=\" \")\n",
    "fn2(b=10,a=2,c=3)\n",
    "\n",
    "#only positional\n",
    "\n",
    "# def fn(a,b,c,/):\n",
    "#     print(a,b,c,sep=\" \")\n",
    "# fn(1,2,3)\n"
   ]
  }
 ],
 "metadata": {
  "kernelspec": {
   "display_name": "Python 3 (ipykernel)",
   "language": "python",
   "name": "python3"
  },
  "language_info": {
   "codemirror_mode": {
    "name": "ipython",
    "version": 3
   },
   "file_extension": ".py",
   "mimetype": "text/x-python",
   "name": "python",
   "nbconvert_exporter": "python",
   "pygments_lexer": "ipython3",
   "version": "3.12.7"
  }
 },
 "nbformat": 4,
 "nbformat_minor": 4
}
